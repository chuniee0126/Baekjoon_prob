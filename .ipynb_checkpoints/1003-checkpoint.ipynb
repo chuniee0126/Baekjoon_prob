{
 "cells": [
  {
   "cell_type": "code",
   "execution_count": 12,
   "metadata": {
    "collapsed": false
   },
   "outputs": [],
   "source": [
    "class problem:\n",
    "    \n",
    "    def __init__(self, n):\n",
    "        self.zero = 0\n",
    "        self.one = 0\n",
    "        self.fibonacci(n)\n",
    "        print(self.zero,self.one)\n",
    "        \n",
    "    def fibonacci(self, n):\n",
    "        if n == 0:\n",
    "            self.zero += 1\n",
    "            return 0\n",
    "        elif n == 1:\n",
    "            self.one += 1\n",
    "            return 1\n",
    "        else:\n",
    "            return self.fibonacci(n-1) + self.fibonacci(n-2)\n"
   ]
  },
  {
   "cell_type": "code",
   "execution_count": null,
   "metadata": {
    "collapsed": false
   },
   "outputs": [],
   "source": [
    "T = int(input())\n",
    "num = []\n",
    "\n",
    "for count in range(T):\n",
    "    n = int(input())\n",
    "    \n",
    "    while n < 0:\n",
    "        n = int(input())\n",
    "        \n",
    "    num.append(n)\n",
    "    \n",
    "for number in num:\n",
    "    problem(number)"
   ]
  }
 ],
 "metadata": {
  "anaconda-cloud": {},
  "kernelspec": {
   "display_name": "Python [default]",
   "language": "python",
   "name": "python3"
  },
  "language_info": {
   "codemirror_mode": {
    "name": "ipython",
    "version": 3
   },
   "file_extension": ".py",
   "mimetype": "text/x-python",
   "name": "python",
   "nbconvert_exporter": "python",
   "pygments_lexer": "ipython3",
   "version": "3.5.2"
  }
 },
 "nbformat": 4,
 "nbformat_minor": 1
}
