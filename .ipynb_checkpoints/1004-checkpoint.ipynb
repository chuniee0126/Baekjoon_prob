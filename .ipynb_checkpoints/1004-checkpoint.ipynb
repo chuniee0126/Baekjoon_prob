{
 "cells": [
  {
   "cell_type": "markdown",
   "metadata": {},
   "source": [
    "# 어린왕자 문제"
   ]
  },
  {
   "cell_type": "code",
   "execution_count": 25,
   "metadata": {
    "collapsed": false
   },
   "outputs": [],
   "source": [
    "class circle_with_dot:\n",
    "    \n",
    "    def __init__(self):\n",
    "        self.dot = []\n",
    "        self.list_circle = []\n",
    "    \n",
    "    def dot_check(self, dot_list):\n",
    "        temp = []\n",
    "        for dot_ in dot_list:\n",
    "            if int(dot_) < -1000 or int(dot_) > 1000:\n",
    "                 return False\n",
    "            temp.append(int(dot_))\n",
    "        self.dot.append(temp)\n",
    "        return True\n",
    "        \n",
    "    def circle_check(self, circle_list):\n",
    "        count = 0\n",
    "        temp = []\n",
    "        for circle_ in circle_list:\n",
    "            if count != 2:\n",
    "                if int(circle_) < -1000 or int(circle_) > 1000:\n",
    "                     return False\n",
    "            else :\n",
    "                if int(circle_) < 1 or int(circle_) > 1000:\n",
    "                     return False\n",
    "            temp.append(int(circle_))\n",
    "            count += 1\n",
    "        self.list_circle.append(temp)\n",
    "        return True\n",
    "    \n",
    "    def cal_result(self):\n",
    "        \n",
    "        dot = self.dot[0]\n",
    "        \n",
    "        result = 0\n",
    "        \n",
    "        \n",
    "        for circle in self.list_circle:\n",
    "            \n",
    "            check_1 = False\n",
    "            check_2 = False\n",
    "            \n",
    "            if ((dot[0]-circle[0])**2 + (dot[1]-circle[1])**2) <= circle[2]**2:\n",
    "                check_1 = True\n",
    "\n",
    "            \n",
    "            if ((dot[2]-circle[0])**2 + (dot[3]-circle[1])**2) <= circle[2]**2:\n",
    "                check_2 = True\n",
    "\n",
    "            \n",
    "            if check_1 == check_2 : pass\n",
    "            else : \n",
    "                result += 1\n",
    "        \n",
    "        return result"
   ]
  },
  {
   "cell_type": "code",
   "execution_count": 26,
   "metadata": {
    "collapsed": true
   },
   "outputs": [],
   "source": [
    "def main():\n",
    "    T = input()\n",
    "\n",
    "    for _ in range(T):\n",
    "        cwd = circle_with_dot()\n",
    "\n",
    "        while True:\n",
    "            dot = raw_input().split()\n",
    "            if cwd.dot_check(dot): break\n",
    "\n",
    "        while True:\n",
    "            T_circle = input()\n",
    "            if T_circle >= 1 and T_circle <= 50: break   \n",
    "\n",
    "        count_circle = 0\n",
    "\n",
    "        while count_circle < T_circle:\n",
    "            circle = raw_input().split()\n",
    "            if not cwd.circle_check(circle): continue\n",
    "            count_circle += 1\n",
    "\n",
    "        print cwd.cal_result()\n",
    "            "
   ]
  },
  {
   "cell_type": "code",
   "execution_count": 27,
   "metadata": {
    "collapsed": false
   },
   "outputs": [
    {
     "name": "stdout",
     "output_type": "stream",
     "text": [
      "1\n",
      "-5 1 12 1\n",
      "7\n",
      "1 1 8\n",
      "-3 -1 1\n",
      "2 2 2\n",
      "5 5 1\n",
      "-4 5 1\n",
      "12 1 1\n",
      "12 1 2\n",
      "[1, 1, 8]\n",
      "[12, 1, 1]\n",
      "[12, 1, 2]\n",
      "3\n"
     ]
    }
   ],
   "source": [
    "if __name__ == '__main__':\n",
    "    main()"
   ]
  }
 ],
 "metadata": {
  "kernelspec": {
   "display_name": "Python [conda root]",
   "language": "python",
   "name": "conda-root-py"
  },
  "language_info": {
   "codemirror_mode": {
    "name": "ipython",
    "version": 2
   },
   "file_extension": ".py",
   "mimetype": "text/x-python",
   "name": "python",
   "nbconvert_exporter": "python",
   "pygments_lexer": "ipython2",
   "version": "2.7.12"
  }
 },
 "nbformat": 4,
 "nbformat_minor": 1
}
