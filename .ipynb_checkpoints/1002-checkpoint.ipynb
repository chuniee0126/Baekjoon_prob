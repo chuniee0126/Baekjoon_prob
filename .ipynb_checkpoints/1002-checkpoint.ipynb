{
 "cells": [
  {
   "cell_type": "markdown",
   "metadata": {},
   "source": [
    "# 터렛\n",
    "\n",
    "x1, y1 어떤 좌표와의 거리 r1\n",
    "x2, y2 어떤 좌표와의 거리 r2\n",
    "\n",
    "어떤 좌표가 있을 수 있는 경우의 수"
   ]
  },
  {
   "cell_type": "code",
   "execution_count": 1,
   "metadata": {
    "collapsed": true
   },
   "outputs": [],
   "source": [
    "import math"
   ]
  },
  {
   "cell_type": "code",
   "execution_count": 5,
   "metadata": {
    "collapsed": false
   },
   "outputs": [],
   "source": [
    "class result:\n",
    "        def __init__(self):\n",
    "            self.li = []\n",
    "        \n",
    "        def cal_lenth(self, x1, y1, x2, y2):    \n",
    "            temp = ((x2 - x1)**2) + ((y2 - y1)**2)\n",
    "            result = math.sqrt(temp)\n",
    "            return result\n",
    "        \n",
    "        def cal_result(self, x1, y1, r1, x2, y2, r2):    \n",
    "            self.lenth = self.cal_lenth(x1, y1, x2, y2)\n",
    "            if x1 == x2 and y1 == y2:\n",
    "                if r1 == r2:\n",
    "                    return -1\n",
    "                else :\n",
    "                    return 0\n",
    "            else :    \n",
    "                if (self.lenth > r1 + r2) or (r1 + self.lenth < r2) or (r2 + self.lenth < r1):\n",
    "                    return 0\n",
    "                elif (self.lenth == r1 + r2) or (r1 == self.lenth + r2) or (r2 == self.lenth + r1):\n",
    "                    return 1\n",
    "                else:\n",
    "                    return 2\n",
    "            \n",
    "        def check(self, item_list):\n",
    "            count = 0\n",
    "            for item in item_list:\n",
    "                if count == 2 or count == 5:\n",
    "                    if int(item) <= 0 or int(item) >= 10000:\n",
    "                        return False\n",
    "                else:\n",
    "                    if int(item) <= -10000 or int(item) >= 10000:\n",
    "                        return False\n",
    "                self.li.append(int(item))\n",
    "                count += 1\n",
    "            return True\n"
   ]
  },
  {
   "cell_type": "code",
   "execution_count": 8,
   "metadata": {
    "collapsed": false
   },
   "outputs": [
    {
     "name": "stdout",
     "output_type": "stream",
     "text": [
      "1\n",
      "10 30 1 10 30 1\n",
      "-1\n"
     ]
    }
   ],
   "source": [
    "T = input()\n",
    "count = 0\n",
    "\n",
    "while count < T:\n",
    "    item_list = raw_input().split()\n",
    "    if not len(item_list) == 6: continue\n",
    "    re = result()\n",
    "    if not re.check(item_list): continue\n",
    "    print(re.cal_result(re.li[0], re.li[1], re.li[2], re.li[3], re.li[4], re.li[5],))\n",
    "    count += 1"
   ]
  }
 ],
 "metadata": {
  "anaconda-cloud": {},
  "kernelspec": {
   "display_name": "Python [conda root]",
   "language": "python",
   "name": "conda-root-py"
  },
  "language_info": {
   "codemirror_mode": {
    "name": "ipython",
    "version": 2
   },
   "file_extension": ".py",
   "mimetype": "text/x-python",
   "name": "python",
   "nbconvert_exporter": "python",
   "pygments_lexer": "ipython2",
   "version": "2.7.12"
  }
 },
 "nbformat": 4,
 "nbformat_minor": 1
}
