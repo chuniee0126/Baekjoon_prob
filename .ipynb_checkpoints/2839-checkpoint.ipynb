{
 "cells": [
  {
   "cell_type": "code",
   "execution_count": 19,
   "metadata": {
    "collapsed": false
   },
   "outputs": [
    {
     "name": "stdout",
     "output_type": "stream",
     "text": [
      "21\n",
      "7\n"
     ]
    }
   ],
   "source": [
    "def result(N):\n",
    "    if (N%5) == 0:\n",
    "        print N/5 + (N%5)/3\n",
    "    elif (N%5) == 1 or (N%5) == 4 :\n",
    "        print (N-5)/5 + (N%5 + 5)/3\n",
    "    else:\n",
    "        if N%3 == 0:\n",
    "            print N/3\n",
    "        else :\n",
    "            print -1\n",
    "\n",
    "result(input())"
   ]
  }
 ],
 "metadata": {
  "anaconda-cloud": {},
  "kernelspec": {
   "display_name": "Python [conda root]",
   "language": "python",
   "name": "conda-root-py"
  },
  "language_info": {
   "codemirror_mode": {
    "name": "ipython",
    "version": 2
   },
   "file_extension": ".py",
   "mimetype": "text/x-python",
   "name": "python",
   "nbconvert_exporter": "python",
   "pygments_lexer": "ipython2",
   "version": "2.7.12"
  }
 },
 "nbformat": 4,
 "nbformat_minor": 1
}
