{
 "cells": [
  {
   "cell_type": "code",
   "execution_count": null,
   "metadata": {
    "collapsed": true
   },
   "outputs": [],
   "source": [
    "class check:\n",
    "    def node_and_rule(self, n_list):\n",
    "        if len(n_list) != 2:\n",
    "            return False\n",
    "        count = False\n",
    "        for n in n_list:\n",
    "            if not count:\n",
    "                if int(n) < 1 or int(n) > 1001 :\n",
    "                    return False\n",
    "            else:\n",
    "                if int(n) < 1 or int(n) > 100001:\n",
    "                    return False\n",
    "            count = True\n",
    "        return True\n",
    "    \n",
    "    def node_time(self, t_list, n_count):\n",
    "        if len(t_list) != n_count:\n",
    "            return False\n",
    "        for time in t_list:\n",
    "            if int(time) < 0 or int(time) > 1001 :\n",
    "                return False\n",
    "        return True\n",
    "    \n",
    "    def rule(self, rule_list, n_count):\n",
    "        if len(rule_list) != 2:\n",
    "            return False\n",
    "        for item in rule_list:\n",
    "            if int(item) < 1 or int(item) > n_count :\n",
    "                return False\n",
    "        return True\n",
    "    \n",
    "    def goal_check(self, goal, n_count):\n",
    "        if not type(goal) is int:\n",
    "            return False\n",
    "        if goal < 1 or goal > n_count :\n",
    "            return False\n",
    "        return True\n",
    "    \n"
   ]
  },
  {
   "cell_type": "code",
   "execution_count": 1,
   "metadata": {
    "collapsed": false
   },
   "outputs": [],
   "source": [
    "class result_class:\n",
    "    \n",
    "    def __init__(self, lenth):\n",
    "        self.matrix_and_visit(lenth)\n",
    "        self.waiting = []\n",
    "        self.q = []\n",
    "    \n",
    "    def matrix_and_visit(self, lenth):\n",
    "        self.result = []        \n",
    "        self.line = []\n",
    "        self.vc = []\n",
    "        for _ in range(lenth+1):\n",
    "            self.result.append(0)\n",
    "            self.line.append(0)\n",
    "            self.vc.append([])\n",
    "        return\n",
    "    \n",
    "    def input_data(self, n1, n2):\n",
    "        self.line[n2] += 1\n",
    "        self.vc[n1].append(n2)\n",
    "        return\n",
    "    \n",
    "\n",
    "    def calculation(self, goal, num):\n",
    "        \n",
    "        for n in range(num):\n",
    "            if self.line[n] == 0:\n",
    "                self.q.append(n)\n",
    "            self.result[n] += self.waiting[n]\n",
    "        \n",
    "        for n in range(num-1):\n",
    "            cur = self.q.pop(0)\n",
    "            for j in range(len(self.vc[cur])):\n",
    "                next = self.vc[cur][j]\n",
    "                \n",
    "                self.result[next] = max(self.result[next], self.result[cur] + self.waiting[next])\n",
    "                \n",
    "                self.line[next] -= 1\n",
    "                \n",
    "                if self.line[next] == 0:\n",
    "                    self.q.append(next)\n",
    "        \n",
    "        \n",
    "        print self.result[goal]\n",
    "            \n",
    "        \n",
    "        \n",
    "\n"
   ]
  },
  {
   "cell_type": "code",
   "execution_count": null,
   "metadata": {
    "collapsed": false
   },
   "outputs": [],
   "source": [
    "while True:\n",
    "    T = input()\n",
    "    if type(T) is int: break\n",
    "\n",
    "for _ in range(T):\n",
    "    \n",
    "    while True:\n",
    "        node_and_rule = raw_input().split()\n",
    "        if check().node_and_rule(node_and_rule) : \n",
    "            node_and_rule[0] = int(node_and_rule[0])\n",
    "            node_and_rule[1] = int(node_and_rule[1])\n",
    "            break\n",
    "    \n",
    "    re = result_class(node_and_rule[0])\n",
    "    \n",
    "    while True:\n",
    "        t_list = raw_input().split()\n",
    "        if check().node_time(t_list, node_and_rule[0]):\n",
    "            for node_count in range(node_and_rule[0]):\n",
    "                re.waiting.append(int(t_list[node_count]))\n",
    "            re.waiting.append(0)\n",
    "            break\n",
    "    \n",
    "    for _ in range(node_and_rule[1]):\n",
    "        while True:\n",
    "            rule_list = raw_input().split()\n",
    "            if check().rule(rule_list, node_and_rule[0]):\n",
    "                re.input_data(int(rule_list[0]) - 1 , int(rule_list[1]) - 1)\n",
    "                break\n",
    "        \n",
    "    while True:\n",
    "        goal = input()\n",
    "        if check().goal_check(goal, node_and_rule[0]): break\n",
    "    \n",
    "    re.calculation(goal-1, node_and_rule[0]+1)\n",
    "\n"
   ]
  },
  {
   "cell_type": "code",
   "execution_count": 2,
   "metadata": {
    "collapsed": false
   },
   "outputs": [
    {
     "ename": "IndentationError",
     "evalue": "unexpected indent (<ipython-input-2-22e2f5528914>, line 13)",
     "output_type": "error",
     "traceback": [
      "\u001b[0;36m  File \u001b[0;32m\"<ipython-input-2-22e2f5528914>\"\u001b[0;36m, line \u001b[0;32m13\u001b[0m\n\u001b[0;31m    for node_count in range(node_and_rule[0]):\u001b[0m\n\u001b[0m    ^\u001b[0m\n\u001b[0;31mIndentationError\u001b[0m\u001b[0;31m:\u001b[0m unexpected indent\n"
     ]
    }
   ],
   "source": [
    "T = input()\n",
    "\n",
    "for _ in range(T):\n",
    "\n",
    "    node_and_rule = raw_input().split()\n",
    "    node_and_rule[0] = int(node_and_rule[0])\n",
    "    node_and_rule[1] = int(node_and_rule[1])\n",
    "    \n",
    "    re = result_class(node_and_rule[0])\n",
    "    \n",
    "    t_list = raw_input().split()\n",
    "\n",
    "    for node_count in range(node_and_rule[0]):\n",
    "        re.waiting.append(int(t_list[node_count]))\n",
    "    re.waiting.append(0)\n",
    "    \n",
    "    for _ in range(node_and_rule[1]):\n",
    "        rule_list = raw_input().split()\n",
    "        re.input_data(int(rule_list[0]) - 1 , int(rule_list[1]) - 1)    \n",
    "\n",
    "    goal = input()\n",
    "    \n",
    "    re.calculation(goal-1, node_and_rule[0]+1)"
   ]
  },
  {
   "cell_type": "code",
   "execution_count": null,
   "metadata": {
    "collapsed": false
   },
   "outputs": [],
   "source": [
    "re = result_class(1000)"
   ]
  }
 ],
 "metadata": {
  "anaconda-cloud": {},
  "kernelspec": {
   "display_name": "Python [conda root]",
   "language": "python",
   "name": "conda-root-py"
  },
  "language_info": {
   "codemirror_mode": {
    "name": "ipython",
    "version": 2
   },
   "file_extension": ".py",
   "mimetype": "text/x-python",
   "name": "python",
   "nbconvert_exporter": "python",
   "pygments_lexer": "ipython2",
   "version": "2.7.12"
  }
 },
 "nbformat": 4,
 "nbformat_minor": 1
}
