{
 "cells": [
  {
   "cell_type": "code",
   "execution_count": 3,
   "metadata": {
    "collapsed": false
   },
   "outputs": [
    {
     "name": "stdout",
     "output_type": "stream",
     "text": [
      "1000000\n",
      "546875\n"
     ]
    }
   ],
   "source": [
    "class Fib:\n",
    "    \n",
    "    def __init__(self):\n",
    "        self.data = [[1, 1], [1, 0]]\n",
    "        \n",
    "    def Matrix_cal(self, data1, data2):\n",
    "        return [[((data1[0][0]*data2[0][0] + data1[0][1]*data2[1][0])%1000000), \n",
    "                 ((data1[0][0]*data2[0][1] + data1[0][1]*data2[1][1])%1000000)],\n",
    "                [((data1[1][0]*data2[0][0] + data1[1][1]*data2[1][0])%1000000), \n",
    "                 ((data1[1][0]*data2[0][1] + data1[1][1]*data2[1][1])%1000000)]]\n",
    "        \n",
    "    def Calculate(self, N):\n",
    "        if N == 0:\n",
    "            return self.data * 0\n",
    "        if N == 1:\n",
    "            return self.data\n",
    "        else:\n",
    "            if N%2 == 0:\n",
    "                return self.Matrix_cal(self.Calculate(N/2), self.Calculate(N/2))\n",
    "            else :\n",
    "                return self.Matrix_cal(self.Matrix_cal(self.Calculate(N/2), self.Calculate(N/2)), self.data)\n",
    "\n",
    "result = Fib()\n",
    "\n",
    "print int(result.Calculate(input())[0][1])"
   ]
  },
  {
   "cell_type": "code",
   "execution_count": 80,
   "metadata": {
    "collapsed": false
   },
   "outputs": [
    {
     "name": "stdout",
     "output_type": "stream",
     "text": [
      "1000000\n",
      "546875\n",
      "48.242235\n"
     ]
    }
   ],
   "source": [
    "def result(N):\n",
    "    fib = []\n",
    "    for n in range(N+1):\n",
    "        if n == 0:\n",
    "            fib.append(0)\n",
    "        elif n == 1:\n",
    "            fib.append(1)\n",
    "        elif n >= 2:\n",
    "            fib.append(fib[n - 1] + fib[n - 2])\n",
    "    return fib[-1]\n",
    "\n",
    "start_time = time.clock()\n",
    "\n",
    "print result(input())%1000000\n",
    "\n",
    "print time.clock() - start_time"
   ]
  }
 ],
 "metadata": {
  "anaconda-cloud": {},
  "kernelspec": {
   "display_name": "Python [conda root]",
   "language": "python",
   "name": "conda-root-py"
  },
  "language_info": {
   "codemirror_mode": {
    "name": "ipython",
    "version": 2
   },
   "file_extension": ".py",
   "mimetype": "text/x-python",
   "name": "python",
   "nbconvert_exporter": "python",
   "pygments_lexer": "ipython2",
   "version": "2.7.12"
  }
 },
 "nbformat": 4,
 "nbformat_minor": 1
}
