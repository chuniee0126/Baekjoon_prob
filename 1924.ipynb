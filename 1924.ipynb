{
 "cells": [
  {
   "cell_type": "code",
   "execution_count": 4,
   "metadata": {
    "collapsed": false
   },
   "outputs": [
    {
     "name": "stdout",
     "output_type": "stream",
     "text": [
      "3 1\n",
      "THU\n"
     ]
    }
   ],
   "source": [
    "N = raw_input().split()\n",
    "M = int(N[0])\n",
    "D = int(N[1])\n",
    "day_list = [\"SUN\", \"MON\", \"TUE\", \"WED\", \"THU\", \"FRI\", \"SAT\"]\n",
    "Num = 0\n",
    "\n",
    "for Month in range(1,M):\n",
    "    if Month == 1 or Month == 3 or Month == 5 or Month == 7 or Month == 8 or Month == 10:\n",
    "        Num += 31\n",
    "    elif Month == 4 or Month == 6 or Month == 9 or Month == 11:\n",
    "        Num += 30\n",
    "    elif Month == 2:\n",
    "        Num += 28\n",
    "\n",
    "Num += D\n",
    "\n",
    "\n",
    "print day_list[Num%7]"
   ]
  }
 ],
 "metadata": {
  "anaconda-cloud": {},
  "kernelspec": {
   "display_name": "Python [conda root]",
   "language": "python",
   "name": "conda-root-py"
  },
  "language_info": {
   "codemirror_mode": {
    "name": "ipython",
    "version": 2
   },
   "file_extension": ".py",
   "mimetype": "text/x-python",
   "name": "python",
   "nbconvert_exporter": "python",
   "pygments_lexer": "ipython2",
   "version": "2.7.12"
  }
 },
 "nbformat": 4,
 "nbformat_minor": 1
}
