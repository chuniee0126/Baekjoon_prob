{
 "cells": [
  {
   "cell_type": "code",
   "execution_count": 1,
   "metadata": {
    "collapsed": true
   },
   "outputs": [],
   "source": [
    "class check():\n",
    "    def node_and_rule(self, n_list):\n",
    "        if len(n_list) != 2:\n",
    "            return False\n",
    "        count = False\n",
    "        for n in n_list:\n",
    "            if not count:\n",
    "                if int(n) < 1 or int(n) > 1000 :\n",
    "                    return False\n",
    "            else:\n",
    "                if int(n) < 1 or int(n) > 100000:\n",
    "                    return False\n",
    "            count = True\n",
    "        return True\n",
    "    \n",
    "    def node_time(self, t_list, n_count):\n",
    "        if len(t_list) != n_count:\n",
    "            return False\n",
    "        for time in t_list:\n",
    "            if int(time) < 0 or int(time) > 1000 :\n",
    "                return False\n",
    "        return True\n",
    "    \n",
    "    def rule(self, rule_list, n_count):\n",
    "        if len(rule_list) != 2:\n",
    "            return False\n",
    "        for item in rule_list:\n",
    "            if int(item) < 1 or int(item) > n_count :\n",
    "                return False\n",
    "        return True\n",
    "    \n",
    "    def goal_check(self, goal, n_count):\n",
    "        if not type(goal) is int:\n",
    "            return False\n",
    "        if goal < 1 or goal > n_count :\n",
    "            return False\n",
    "        return True"
   ]
  },
  {
   "cell_type": "code",
   "execution_count": 2,
   "metadata": {
    "collapsed": true
   },
   "outputs": [],
   "source": [
    "def input_data(mat, n1, n2):\n",
    "    mat[n1][n2] = 1\n",
    "    mat[n2][n1] = 1"
   ]
  },
  {
   "cell_type": "code",
   "execution_count": 3,
   "metadata": {
    "collapsed": false
   },
   "outputs": [],
   "source": [
    "class result_class:\n",
    "    \n",
    "    def __init__(self, lenth):\n",
    "        self.matrix_and_visit(lenth)\n",
    "        self.result = []\n",
    "        self.temp = []\n",
    "    \n",
    "    def matrix_and_visit(self, lenth):\n",
    "        self.matrix = []\n",
    "        self.visit = []\n",
    "        for _ in range(lenth):\n",
    "            temp = []\n",
    "            for _ in range(lenth):\n",
    "                temp.append(0)\n",
    "            self.matrix.append(temp)\n",
    "            self.visit.append(False)\n",
    "        return\n",
    "    \n",
    "    def DFS(self, start, goal, n):\n",
    "        # DFS 구현\n",
    "        self.visit[start] = True\n",
    "        self.temp.append(start)\n",
    "\n",
    "        if start == goal:\n",
    "            real_temp = self.temp[:]\n",
    "            self.result.append(real_temp)\n",
    "            self.temp.pop()\n",
    "            return\n",
    "\n",
    "        for i in range(n):\n",
    "            if self.matrix[start][i] == 1 and not self.visit[i]:\n",
    "                self.DFS(i, goal, n)\n",
    "                self.visit[i] = False\n",
    "        self.temp.pop()\n",
    "        return \n",
    "    "
   ]
  },
  {
   "cell_type": "code",
   "execution_count": 4,
   "metadata": {
    "collapsed": false
   },
   "outputs": [
    {
     "name": "stdout",
     "output_type": "stream",
     "text": [
      "1\n",
      "4 4\n",
      "10 1 100 10\n",
      "1 2\n",
      "1 3\n",
      "2 4\n",
      "3 4\n",
      "4\n",
      "120\n"
     ]
    }
   ],
   "source": [
    "T = input()\n",
    "\n",
    "for _ in range(T):\n",
    "    \n",
    "    while True:\n",
    "        node_and_rule = raw_input().split()\n",
    "        if check().node_and_rule(node_and_rule) : \n",
    "            node_and_rule[0] = int(node_and_rule[0])\n",
    "            node_and_rule[1] = int(node_and_rule[1])\n",
    "            break\n",
    "    \n",
    "    while True:\n",
    "        t_list = raw_input().split()\n",
    "        if check().node_time(t_list, node_and_rule[0]):\n",
    "            node_list = []\n",
    "            for node_count in range(node_and_rule[0]):\n",
    "                node_list.append(int(t_list[node_count]))\n",
    "            break\n",
    "    \n",
    "    re = result_class(node_and_rule[0])\n",
    "    \n",
    "    for _ in range(node_and_rule[1]):\n",
    "        while True:\n",
    "            rule_list = raw_input().split()\n",
    "            if check().rule(rule_list, node_and_rule[0]):\n",
    "                input_data(re.matrix, int(rule_list[0]) - 1 , int(rule_list[1]) - 1)\n",
    "                break\n",
    "        \n",
    "    while True:\n",
    "        goal = input()\n",
    "        if check().goal_check(goal, node_and_rule[0]): break\n",
    "    \n",
    "    re.DFS(0, goal-1, node_and_rule[0])\n",
    "    \n",
    "    result = 0\n",
    "    \n",
    "    for path in re.result:\n",
    "        temp = 0\n",
    "        for node in path: temp += node_list[node]\n",
    "        if temp > result: result = temp\n",
    "    \n",
    "    print result"
   ]
  }
 ],
 "metadata": {
  "anaconda-cloud": {},
  "kernelspec": {
   "display_name": "Python [conda root]",
   "language": "python",
   "name": "conda-root-py"
  },
  "language_info": {
   "codemirror_mode": {
    "name": "ipython",
    "version": 2
   },
   "file_extension": ".py",
   "mimetype": "text/x-python",
   "name": "python",
   "nbconvert_exporter": "python",
   "pygments_lexer": "ipython2",
   "version": "2.7.12"
  }
 },
 "nbformat": 4,
 "nbformat_minor": 1
}
