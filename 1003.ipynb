{
 "cells": [
  {
   "cell_type": "code",
   "execution_count": 4,
   "metadata": {
    "collapsed": false
   },
   "outputs": [
    {
     "name": "stdout",
     "output_type": "stream",
     "text": [
      "\n"
     ]
    }
   ],
   "source": [
    "class problem:\n",
    "    \n",
    "    def __init__(self, n):\n",
    "        self.fibo = [0, 1]\n",
    "        \n",
    "        if n == 0:\n",
    "            print 1, 0\n",
    "        else:\n",
    "            self.fibonacci(n)\n",
    "            print self.fibo[n-1], self.fibo[n]\n",
    "        \n",
    "    def fibonacci(self, n):\n",
    "        \n",
    "        for num in range(n):\n",
    "            if num < 2:\n",
    "                pass\n",
    "            else:\n",
    "                temp = self.fibo[num - 1] + self.fibo[num - 2]\n",
    "                self.fibo.append(temp)\n",
    "        \n",
    "        self.fibo.append(self.fibo[num] + self.fibo[num - 1])\n"
   ]
  },
  {
   "cell_type": "code",
   "execution_count": 5,
   "metadata": {
    "collapsed": true
   },
   "outputs": [],
   "source": [
    "def main():\n",
    "    \n",
    "    T = input()\n",
    "    \n",
    "    for count in range(T):\n",
    "        n = input()\n",
    "    \n",
    "        if n in range(41):\n",
    "            problem(n)\n",
    "        \n",
    "        "
   ]
  },
  {
   "cell_type": "code",
   "execution_count": 10,
   "metadata": {
    "collapsed": false,
    "scrolled": true
   },
   "outputs": [
    {
     "name": "stdout",
     "output_type": "stream",
     "text": [
      "1\n",
      "40\n",
      "63245986 102334155\n"
     ]
    }
   ],
   "source": [
    "if __name__ == '__main__':\n",
    "    main()"
   ]
  },
  {
   "cell_type": "code",
   "execution_count": 30,
   "metadata": {
    "collapsed": false
   },
   "outputs": [],
   "source": [
    "def main():\n",
    "\n",
    "    T_num = raw_input().split()\n",
    "    \n",
    "    count = 1\n",
    "\n",
    "    for n in range(int(T_num[0])):\n",
    "    \n",
    "        while not int(T_num[n+count]) in range(41):\n",
    "            count += 1\n",
    "    \n",
    "        problem(int(T_num[n+count]))\n",
    "    "
   ]
  }
 ],
 "metadata": {
  "anaconda-cloud": {},
  "kernelspec": {
   "display_name": "Python [default]",
   "language": "python",
   "name": "python2"
  },
  "language_info": {
   "codemirror_mode": {
    "name": "ipython",
    "version": 2
   },
   "file_extension": ".py",
   "mimetype": "text/x-python",
   "name": "python",
   "nbconvert_exporter": "python",
   "pygments_lexer": "ipython2",
   "version": "2.7.12"
  }
 },
 "nbformat": 4,
 "nbformat_minor": 1
}
