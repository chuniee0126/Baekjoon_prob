{
 "cells": [
  {
   "cell_type": "code",
   "execution_count": 1,
   "metadata": {
    "collapsed": false
   },
   "outputs": [],
   "source": [
    "class problem:\n",
    "    \n",
    "    def __init__(self, n):\n",
    "        self.zero = 0\n",
    "        self.one = 0\n",
    "        self.fibonacci(n)\n",
    "        print(self.zero,self.one)\n",
    "        \n",
    "    def fibonacci(self, n):\n",
    "        if n == 0:\n",
    "            self.zero += 1\n",
    "            return 0\n",
    "        elif n == 1:\n",
    "            self.one += 1\n",
    "            return 1\n",
    "        else:\n",
    "            return self.fibonacci(n-1) + self.fibonacci(n-2)\n"
   ]
  },
  {
   "cell_type": "code",
   "execution_count": 2,
   "metadata": {
    "collapsed": false
   },
   "outputs": [],
   "source": [
    "def main():\n",
    "\n",
    "    T_num = input().split()\n",
    "\n",
    "    count = 1\n",
    "\n",
    "    for n in range(int(T_num[0])):\n",
    "    \n",
    "        while not int(T_num[n+count]) in range(41):\n",
    "            count += 1\n",
    "    \n",
    "        problem(int(T_num[n+count]))\n",
    "    "
   ]
  },
  {
   "cell_type": "code",
   "execution_count": null,
   "metadata": {
    "collapsed": false
   },
   "outputs": [
    {
     "name": "stdout",
     "output_type": "stream",
     "text": [
      "3 40 0 1\n"
     ]
    }
   ],
   "source": [
    "if __name__ == '__main__':\n",
    "    main()"
   ]
  }
 ],
 "metadata": {
  "anaconda-cloud": {},
  "kernelspec": {
   "display_name": "Python [default]",
   "language": "python",
   "name": "python3"
  },
  "language_info": {
   "codemirror_mode": {
    "name": "ipython",
    "version": 3
   },
   "file_extension": ".py",
   "mimetype": "text/x-python",
   "name": "python",
   "nbconvert_exporter": "python",
   "pygments_lexer": "ipython3",
   "version": "3.5.2"
  }
 },
 "nbformat": 4,
 "nbformat_minor": 1
}
